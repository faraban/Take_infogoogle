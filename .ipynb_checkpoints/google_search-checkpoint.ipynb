{
 "cells": [
  {
   "cell_type": "code",
   "execution_count": 12,
   "id": "5ba8d23a",
   "metadata": {},
   "outputs": [],
   "source": [
    "from selenium import webdriver \n",
    "from selenium.webdriver.common.by import By\n",
    "from selenium.webdriver.common.keys import Keys \n",
    "from time import sleep"
   ]
  },
  {
   "cell_type": "code",
   "execution_count": 17,
   "id": "f86cf98a",
   "metadata": {},
   "outputs": [],
   "source": [
    "driver = webdriver.Chrome()\n",
    "driver.get('https://www.google.com/')\n",
    "search=driver.find_element(By.ID,\"APjFqb\").send_keys('appartement') \n",
    "box=driver.find_element(By.CLASS_NAME,\"gNO89b\").submit()\n",
    "for i in range(3):\n",
    "    driver.execute_script('window.scrollTo(0, document.body.scrollHeight);')\n",
    "sleep(1)\n",
    "urls=driver.find_elements(By.CLASS_NAME,\"yuRUbf\")\n",
    "comments=driver.find_elements(By.CLASS_NAME,\"VwiC3b.yXK7lf.lyLwlc.yDYNvb.W8l4ac.lEBKkf\")"
   ]
  },
  {
   "cell_type": "code",
   "execution_count": 23,
   "id": "893bd5ad",
   "metadata": {},
   "outputs": [
    {
     "name": "stdout",
     "output_type": "stream",
     "text": [
      "Location d'appartements et studios sur Abidjan ✓ Trouvez ou louez votre appartement sur Internet ✓ Appartements 2 pièces, 3 pièces ou plus à louer ...\n",
      "         \n",
      "Dans la catégorie Location appartement Côte d'Ivoire, vous trouverez plus de 2900 locations, par exemple : appartement meublé ou location de charme.\n",
      "         \n",
      "14 juin 2023 — moderne Partie d'une maison, d'un immeuble composée de plusieurs pièces qui servent d'habitation. ➙ logement. Louer un appartement.\n",
      "         \n",
      "appartement n.m.. Partie d'un immeuble comportant plusieurs pièces qui forment un ensemble... Appartement témoin ou modèle. Appartement thérapeutique. autres ...\n",
      "         \n",
      "Location d'appartements et studios en Côte d'Ivoire ✓ Trouvez ou louez votre appartement sur Internet ✓ Appartements 2 pièces, 3 pièces ou plus à louer ...\n",
      "         \n",
      "Appartement Moins chers D'abidjan, Abidjan. 8616 likes · 122 talking about this · 1 was here. Nous mettons a votre disposition nos appartements et nos...\n",
      "         \n",
      "Trouvez un appartement à louer en Côte d'Ivoire. Parcourez les petites annonces de location d'appartements en Côte d'Ivoire et publiez la vôtre ...\n",
      "         \n"
     ]
    }
   ],
   "source": [
    "for txt in comments:\n",
    "    print(txt.text)\n",
    "    print('   '*3)"
   ]
  },
  {
   "cell_type": "code",
   "execution_count": 26,
   "id": "8ad091b0",
   "metadata": {},
   "outputs": [
    {
     "name": "stdout",
     "output_type": "stream",
     "text": [
      "None\n",
      "None\n",
      "None\n",
      "None\n",
      "None\n",
      "None\n",
      "None\n",
      "None\n",
      "None\n",
      "None\n",
      "None\n"
     ]
    }
   ],
   "source": [
    "for i in urls:\n",
    "    a=i.get_attribute('text')\n",
    "    print(a)"
   ]
  },
  {
   "cell_type": "code",
   "execution_count": null,
   "id": "62a1e05f",
   "metadata": {},
   "outputs": [],
   "source": []
  }
 ],
 "metadata": {
  "kernelspec": {
   "display_name": "Python 3 (ipykernel)",
   "language": "python",
   "name": "python3"
  },
  "language_info": {
   "codemirror_mode": {
    "name": "ipython",
    "version": 3
   },
   "file_extension": ".py",
   "mimetype": "text/x-python",
   "name": "python",
   "nbconvert_exporter": "python",
   "pygments_lexer": "ipython3",
   "version": "3.9.12"
  }
 },
 "nbformat": 4,
 "nbformat_minor": 5
}
