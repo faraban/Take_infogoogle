{
 "cells": [
  {
   "cell_type": "code",
   "execution_count": 115,
   "id": "5ba8d23a",
   "metadata": {},
   "outputs": [],
   "source": [
    "# Importation du module 'webdriver' de Selenium pour automatiser le navigateur web\n",
    "from selenium import webdriver\n",
    "\n",
    "# Importation des modules 'By' et 'Keys' de Selenium pour la recherche d'éléments web et la simulation de touches\n",
    "from selenium.webdriver.common.by import By\n",
    "from selenium.webdriver.common.keys import Keys\n",
    "\n",
    "# Importation de la fonction 'sleep' du module 'time' pour ajouter des délais\n",
    "from time import sleep\n",
    "\n",
    "# Importation du module 'BeautifulSoup' pour l'analyse HTML\n",
    "from bs4 import BeautifulSoup\n"
   ]
  },
  {
   "cell_type": "code",
   "execution_count": 106,
   "id": "f86cf98a",
   "metadata": {},
   "outputs": [],
   "source": [
    "def searchlink(sujet):\n",
    "    driver = webdriver.Chrome()\n",
    "    driver.get('https://www.google.com/')\n",
    "    search=driver.find_element(By.ID,\"APjFqb\").send_keys(sujet+' '+'articles') \n",
    "    box=driver.find_element(By.CLASS_NAME,\"gNO89b\").submit()\n",
    "    for i in range(10):\n",
    "        driver.execute_script('window.scrollTo(0, document.body.scrollHeight);')\n",
    "        sleep(0.1)\n",
    "    url=driver.page_source\n",
    "    driver.quit()\n",
    "    return url"
   ]
  },
  {
   "cell_type": "code",
   "execution_count": 107,
   "id": "1169b765",
   "metadata": {},
   "outputs": [],
   "source": [
    "def extralien(page):\n",
    "    urls=[]\n",
    "    soup = BeautifulSoup(page, 'html.parser')\n",
    "    results = soup.find_all(jsname='UWckNb')\n",
    "    for link in results:\n",
    "        if link:\n",
    "            urls.append(link.get('href'))\n",
    "    return urls"
   ]
  },
  {
   "cell_type": "code",
   "execution_count": 112,
   "id": "bd536740",
   "metadata": {},
   "outputs": [],
   "source": [
    "def Taketxt(sujet):\n",
    "    texte=' '\n",
    "    sujet=str(sujet)\n",
    "    page=searchlink(sujet)\n",
    "    lien=extralien(page)\n",
    "    for i in lien:\n",
    "        driver = webdriver.Chrome()\n",
    "        driver.get(i)\n",
    "        sleep(0.1)\n",
    "        articles=driver.find_elements(By.TAG_NAME,'p')\n",
    "        try:\n",
    "            for p in articles:\n",
    "                if sujet in p.text:\n",
    "                    contenu = p.text\n",
    "                    texte+='\\n\\n'+contenu\n",
    "        except:\n",
    "            continue\n",
    "        driver.quit()\n",
    "    with open(f'C:/Users/HP/Documents/{sujet}.txt', 'w') as reponse:\n",
    "        reponse.write(texte)"
   ]
  },
  {
   "cell_type": "code",
   "execution_count": 114,
   "id": "b9be22e9",
   "metadata": {},
   "outputs": [],
   "source": [
    "search='le mot clés'\n",
    "Taketxt(search)"
   ]
  }
 ],
 "metadata": {
  "kernelspec": {
   "display_name": "Python 3 (ipykernel)",
   "language": "python",
   "name": "python3"
  },
  "language_info": {
   "codemirror_mode": {
    "name": "ipython",
    "version": 3
   },
   "file_extension": ".py",
   "mimetype": "text/x-python",
   "name": "python",
   "nbconvert_exporter": "python",
   "pygments_lexer": "ipython3",
   "version": "3.9.12"
  }
 },
 "nbformat": 4,
 "nbformat_minor": 5
}
