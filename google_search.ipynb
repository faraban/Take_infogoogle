{
 "cells": [
  {
   "cell_type": "code",
   "execution_count": 67,
   "id": "5ba8d23a",
   "metadata": {},
   "outputs": [],
   "source": [
    "from selenium import webdriver \n",
    "from selenium.webdriver.common.by import By\n",
    "from selenium.webdriver.common.keys import Keys \n",
    "from time import sleep\n",
    "from bs4 import BeautifulSoup"
   ]
  },
  {
   "cell_type": "code",
   "execution_count": 68,
   "id": "f86cf98a",
   "metadata": {},
   "outputs": [],
   "source": [
    "def searchlink(sujet):\n",
    "    driver = webdriver.Chrome()\n",
    "    driver.get('https://www.google.com/')\n",
    "    search=driver.find_element(By.ID,\"APjFqb\").send_keys(sujet+' '+'articles') \n",
    "    box=driver.find_element(By.CLASS_NAME,\"gNO89b\").submit()\n",
    "    for i in range(10):\n",
    "        driver.execute_script('window.scrollTo(0, document.body.scrollHeight);')\n",
    "        sleep(0.1)\n",
    "    url=driver.page_source\n",
    "    driver.quit()\n",
    "    return url"
   ]
  },
  {
   "cell_type": "code",
   "execution_count": 69,
   "id": "75d6a6ff",
   "metadata": {},
   "outputs": [],
   "source": [
    "def extralien(page):\n",
    "    urls=[]\n",
    "    soup = BeautifulSoup(page, 'html.parser')\n",
    "    results = soup.find_all(jsname='UWckNb')\n",
    "    for link in results:\n",
    "        if link:\n",
    "            urls.append(link.get('href'))\n",
    "    return urls"
   ]
  },
  {
   "cell_type": "code",
   "execution_count": 70,
   "id": "d8409622",
   "metadata": {},
   "outputs": [
    {
     "ename": "SyntaxError",
     "evalue": "invalid syntax (781849788.py, line 12)",
     "output_type": "error",
     "traceback": [
      "\u001b[1;36m  Input \u001b[1;32mIn [70]\u001b[1;36m\u001b[0m\n\u001b[1;33m    if  in p.text:\u001b[0m\n\u001b[1;37m        ^\u001b[0m\n\u001b[1;31mSyntaxError\u001b[0m\u001b[1;31m:\u001b[0m invalid syntax\n"
     ]
    }
   ],
   "source": [
    "def Taketxt(sujet):\n",
    "    texte=' '\n",
    "    sujet=str(sujet)\n",
    "    page=searchlink(sujet)\n",
    "    lien=extralien(page)\n",
    "    for i in lien:\n",
    "        driver = webdriver.Chrome()\n",
    "        driver.get(i)\n",
    "        sleep(0.1)\n",
    "        articles=driver.find_elements(By.TAG_NAME,'p')\n",
    "        try:\n",
    "            for p in articles:\n",
    "                if sujet in p.text:\n",
    "                    contenu = p.text\n",
    "                    texte+='\\n\\n'\n",
    "        except:\n",
    "            continue\n",
    "        driver.quit()"
   ]
  },
  {
   "cell_type": "code",
   "execution_count": 91,
   "id": "a6968e26",
   "metadata": {},
   "outputs": [],
   "source": [
    "texte='manger bien'\n",
    "doc='aller au champ'\n",
    "\n",
    "texte+='\\n\\n'\n"
   ]
  },
  {
   "cell_type": "code",
   "execution_count": 92,
   "id": "2af8af84",
   "metadata": {},
   "outputs": [
    {
     "name": "stdout",
     "output_type": "stream",
     "text": [
      "manger bien\n",
      "\n",
      "aller au champ\n"
     ]
    }
   ],
   "source": [
    "print(texte)"
   ]
  },
  {
   "cell_type": "code",
   "execution_count": null,
   "id": "1b5f6ca5",
   "metadata": {},
   "outputs": [],
   "source": []
  }
 ],
 "metadata": {
  "kernelspec": {
   "display_name": "Python 3 (ipykernel)",
   "language": "python",
   "name": "python3"
  },
  "language_info": {
   "codemirror_mode": {
    "name": "ipython",
    "version": 3
   },
   "file_extension": ".py",
   "mimetype": "text/x-python",
   "name": "python",
   "nbconvert_exporter": "python",
   "pygments_lexer": "ipython3",
   "version": "3.9.12"
  }
 },
 "nbformat": 4,
 "nbformat_minor": 5
}
