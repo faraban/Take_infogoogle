{
 "cells": [
  {
   "cell_type": "code",
   "execution_count": 12,
   "id": "5ba8d23a",
   "metadata": {},
   "outputs": [],
   "source": [
    "from selenium import webdriver \n",
    "from selenium.webdriver.common.by import By\n",
    "from selenium.webdriver.common.keys import Keys \n",
    "from time import sleep"
   ]
  },
  {
   "cell_type": "code",
   "execution_count": 13,
   "id": "f86cf98a",
   "metadata": {},
   "outputs": [],
   "source": [
    "driver = webdriver.Chrome()\n",
    "driver.get('https://www.google.com/')\n",
    "search=driver.find_element(By.ID,\"APjFqb\").send_keys('appartement') \n",
    "box=driver.find_element(By.CLASS_NAME,\"gNO89b\").submit()\n",
    "sleep(1)\n",
    "urls=driver.find_elements(By.CLASS_NAME,\"yuRUbf\")\n",
    "comments=driver.find_elements(By.CLASS_NAME,\"VwiC3b.yXK7lf.lyLwlc.yDYNvb.W8l4ac.lEBKkf\")"
   ]
  },
  {
   "cell_type": "code",
   "execution_count": 16,
   "id": "893bd5ad",
   "metadata": {},
   "outputs": [
    {
     "data": {
      "text/plain": [
       "7"
      ]
     },
     "execution_count": 16,
     "metadata": {},
     "output_type": "execute_result"
    }
   ],
   "source": [
    "len(comments)"
   ]
  },
  {
   "cell_type": "code",
   "execution_count": 11,
   "id": "bb59c0eb",
   "metadata": {},
   "outputs": [
    {
     "data": {
      "text/plain": [
       "[]"
      ]
     },
     "execution_count": 11,
     "metadata": {},
     "output_type": "execute_result"
    }
   ],
   "source": [
    "urls"
   ]
  },
  {
   "cell_type": "code",
   "execution_count": null,
   "id": "251c6cee",
   "metadata": {},
   "outputs": [],
   "source": []
  }
 ],
 "metadata": {
  "kernelspec": {
   "display_name": "Python 3 (ipykernel)",
   "language": "python",
   "name": "python3"
  },
  "language_info": {
   "codemirror_mode": {
    "name": "ipython",
    "version": 3
   },
   "file_extension": ".py",
   "mimetype": "text/x-python",
   "name": "python",
   "nbconvert_exporter": "python",
   "pygments_lexer": "ipython3",
   "version": "3.9.12"
  }
 },
 "nbformat": 4,
 "nbformat_minor": 5
}
